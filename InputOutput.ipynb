{
 "cells": [
  {
   "cell_type": "markdown",
   "id": "10849601-159d-4436-ac1a-a2824ecffb9e",
   "metadata": {},
   "source": [
    "<h1> NILAI STATIS DAN DINAMIS </h1>"
   ]
  },
  {
   "cell_type": "code",
   "execution_count": 7,
   "id": "eef63fb9-0153-4973-a343-404fc7cdc3a9",
   "metadata": {},
   "outputs": [
    {
     "name": "stdin",
     "output_type": "stream",
     "text": [
      "Insert Your First Name :  Rangga\n",
      "Insert Your Middle Name :  Hishbu\n",
      "Insert Your Last Name :  Shafar\n",
      "Insert Your NIM :  20230040284\n",
      "Insert Your Alamat :  Cibadak\n"
     ]
    },
    {
     "name": "stdout",
     "output_type": "stream",
     "text": [
      "Hello Rangga Hishbu Shafar Si Sepuh\n",
      "Dengan NIM : 20230040284\n",
      "Alamat Rumah : Cibadak\n"
     ]
    }
   ],
   "source": [
    "first_name = input('Insert Your First Name : ')\n",
    "middle_name = input('Insert Your Middle Name : ')\n",
    "last_name = input('Insert Your Last Name : ')\n",
    "nim = input ('Insert Your NIM : ')\n",
    "alamat = input('Insert Your Alamat : ')\n",
    "\n",
    "print(\"Hello\", first_name, middle_name, last_name, \"Si Sepuh\")\n",
    "print(\"Dengan NIM :\",nim)\n",
    "print(\"Alamat Rumah :\",alamat)"
   ]
  },
  {
   "cell_type": "markdown",
   "id": "1cbbd200-c5fb-421a-ad48-8328de11eb77",
   "metadata": {},
   "source": [
    "<h1> LUAS DAN KELILING PERSEGI </h1>"
   ]
  },
  {
   "cell_type": "code",
   "execution_count": 7,
   "id": "8d5ee663-e075-485a-b8f5-81a757a22007",
   "metadata": {},
   "outputs": [
    {
     "name": "stdin",
     "output_type": "stream",
     "text": [
      "Masukkan Panjang : 12\n",
      "Masukkan Lebar : 10\n"
     ]
    },
    {
     "name": "stdout",
     "output_type": "stream",
     "text": [
      "Luasnya adalah :  120\n",
      "Kelilingnya adalah : 34\n"
     ]
    }
   ],
   "source": [
    "panjang = input('Masukkan Panjang :')\n",
    "lebar = input('Masukkan Lebar :')\n",
    "\n",
    "luas = int(panjang) * int(lebar)\n",
    "keliling = 2 * (int(panjang)) + (int(lebar))\n",
    "\n",
    "print(\"Luasnya adalah : \", luas)\n",
    "print(\"Kelilingnya adalah :\", keliling)"
   ]
  },
  {
   "cell_type": "markdown",
   "id": "c6b4d47a-3751-4ae6-b2c5-6824a35efaa0",
   "metadata": {},
   "source": [
    "<h1> Output Senator </h1>"
   ]
  },
  {
   "cell_type": "code",
   "execution_count": 2,
   "id": "f1aba3aa-94e5-401b-b64d-ccc8fe25c5d5",
   "metadata": {},
   "outputs": [
    {
     "name": "stdout",
     "output_type": "stream",
     "text": [
      "18-Oktober-2024\n",
      "18\n",
      "Oktober\n",
      "2024\n"
     ]
    }
   ],
   "source": [
    "print(\"18\", \"Oktober\", \"2024\", sep='-')\n",
    "\n",
    "print (\"18\", \"Oktober\", \"2024\", sep= '\\n')"
   ]
  },
  {
   "cell_type": "markdown",
   "id": "e08a7f77-683e-4114-9c67-6ee77361c75c",
   "metadata": {},
   "source": [
    "<h1> Memformat dengan string</h1>"
   ]
  },
  {
   "cell_type": "code",
   "execution_count": 4,
   "id": "fe092b1f-3a2d-483f-93bd-65eba5f08faf",
   "metadata": {},
   "outputs": [
    {
     "name": "stdout",
     "output_type": "stream",
     "text": [
      "1*2*3*4."
     ]
    }
   ],
   "source": [
    "print(\"1\", \"2\", \"3\", \"4\", sep = \"*\", end=\".\")"
   ]
  },
  {
   "cell_type": "code",
   "execution_count": 20,
   "id": "4cea5e7e-2f34-4520-9089-dad0eb97ec04",
   "metadata": {},
   "outputs": [
    {
     "name": "stdout",
     "output_type": "stream",
     "text": [
      "luas Persegi dengan lebar 10 dan panjang 20 = 200\n"
     ]
    }
   ],
   "source": [
    "l = 10\n",
    "p = 20\n",
    "\n",
    "print(\"luas Persegi dengan lebar {} dan panjang {} = {}\". format(l,p,l*p))"
   ]
  },
  {
   "cell_type": "markdown",
   "id": "451d1d3a-3aeb-4ab1-87b1-9b9fa12a5d94",
   "metadata": {},
   "source": [
    "<h1> Memformat Dengan key </h1>"
   ]
  },
  {
   "cell_type": "code",
   "execution_count": 14,
   "id": "19195568-3691-43e8-b420-bdcc5e3cb19c",
   "metadata": {},
   "outputs": [
    {
     "name": "stdout",
     "output_type": "stream",
     "text": [
      "Nama-Nama Bulan Februari,Januari,Maret\n"
     ]
    }
   ],
   "source": [
    "bulan1 = \"Januari\"\n",
    "bulan2 = \"Februari\"\n",
    "bulan3 = \"Maret\"\n",
    "\n",
    "print(\"Nama-Nama Bulan {1},{0},{2}\". format(bulan1,bulan2,bulan3))"
   ]
  },
  {
   "cell_type": "markdown",
   "id": "400fec41-1b03-48fa-b9f6-e3da4cbae7f2",
   "metadata": {},
   "source": [
    "<h1> Memformat Pengenalan String</h1>"
   ]
  },
  {
   "cell_type": "code",
   "execution_count": 22,
   "id": "b85b8b83-21a0-4cdb-a63a-0027e64e4c20",
   "metadata": {},
   "outputs": [
    {
     "name": "stdout",
     "output_type": "stream",
     "text": [
      "Nama Saya Sultan Mangkuaji\n"
     ]
    }
   ],
   "source": [
    "print(\"Nama Saya {fname} {lname}\".format(fname='Sultan',lname='Mangkuaji'))"
   ]
  },
  {
   "cell_type": "code",
   "execution_count": 40,
   "id": "d0a278dc-6fb4-4924-a5a1-5892d8a2ddc8",
   "metadata": {},
   "outputs": [
    {
     "name": "stdout",
     "output_type": "stream",
     "text": [
      "U\n",
      "a\n",
      "Universitas\n",
      "Universitas Nusa Putra\n",
      "\n",
      "Putra\n",
      "artuP asuN satisrevinU\n"
     ]
    }
   ],
   "source": [
    "kampus = \"Universitas Nusa Putra\"\n",
    "print(kampus[0])\n",
    "print(kampus[-1])\n",
    "\n",
    "#menggunakan range\n",
    "print(kampus[0:11])\n",
    "print(kampus[0:])\n",
    "print(kampus[12:0])\n",
    "print(kampus[-5:])\n",
    "print(kampus[: : -1])"
   ]
  },
  {
   "cell_type": "markdown",
   "id": "b3e264a5-efcc-4246-a783-bdb61fdb02b3",
   "metadata": {},
   "source": [
    "<h1> Interpolasi Menggunakan F-String </h1>"
   ]
  },
  {
   "cell_type": "code",
   "execution_count": 39,
   "id": "387b72eb-bfb3-4497-b4a5-9200fb356f14",
   "metadata": {},
   "outputs": [
    {
     "name": "stdout",
     "output_type": "stream",
     "text": [
      "luas Persegi = 200\n",
      "Keliling Persegi = 60\n"
     ]
    }
   ],
   "source": [
    "p = 10\n",
    "l = 20\n",
    "\n",
    "print(f'luas Persegi = {l*p}')\n",
    "print(f'Keliling Persegi = {2*(l+p)}')"
   ]
  },
  {
   "cell_type": "markdown",
   "id": "a7ac0cbd-3de7-4a66-9fc8-d8d18eca42f2",
   "metadata": {},
   "source": [
    "<h1> Operator </h1>"
   ]
  },
  {
   "cell_type": "code",
   "execution_count": 44,
   "id": "ac4b1f81-0a6a-42bd-8ca6-450805f1cc05",
   "metadata": {},
   "outputs": [
    {
     "name": "stdout",
     "output_type": "stream",
     "text": [
      "['ROBI', 'BUDI', 'DODI']\n",
      "ROBI@BUDI@DODI\n"
     ]
    }
   ],
   "source": [
    "nama_siswa = \"Robi,Budi,Dodi\"\n",
    "nama_siswa = nama_siswa.upper()\n",
    "\n",
    "print(nama_siswa.split(','))\n",
    "print('@'.join(nama_siswa.split(',')))"
   ]
  },
  {
   "cell_type": "markdown",
   "id": "f3f175b2-32de-4925-ada7-8755e9d6fc78",
   "metadata": {},
   "source": [
    "<h1>TUGAS</h1>"
   ]
  },
  {
   "cell_type": "code",
   "execution_count": 105,
   "id": "d4033455-7ced-40ea-abc2-20d9d429fe3a",
   "metadata": {},
   "outputs": [
    {
     "name": "stdin",
     "output_type": "stream",
     "text": [
      "Nama : Rangga Hishbu Shafar\n",
      "Tanggal : 25/Maret/2005\n"
     ]
    },
    {
     "name": "stdout",
     "output_type": "stream",
     "text": [
      "Nama : Rangga Hishbu Shafar\n",
      "tanggal : 25\n",
      "Bulan : Maret\n",
      "Tahun : 2005\n",
      "Inisial : RHS\n"
     ]
    }
   ],
   "source": [
    "#input = nama\n",
    "#input = tanggal lahir\n",
    "\n",
    "#output : \n",
    "#nama anda : \n",
    "#tanggal :\n",
    "#bulan : \n",
    "#tahun :\n",
    "#inisial :\n",
    "\n",
    "nama = input(\"Nama :\")\n",
    "tanggal = input(\"Tanggal :\")\n",
    "\n",
    "tgls = tanggal.split('/')\n",
    "namas = nama.split()\n",
    "\n",
    "print(f\"Nama : {nama}\")\n",
    "print(f\"tanggal : {tgls[0]}\")\n",
    "print(f\"Bulan : {tgls[1]}\")\n",
    "print(f\"Tahun : {tgls[2]}\")\n",
    "print(f\"Inisial : {namas[0][0]}{namas[1][0]}{namas[2][0]}\")\n"
   ]
  },
  {
   "cell_type": "code",
   "execution_count": null,
   "id": "061e93e0-25ca-4643-b609-96a88c75095a",
   "metadata": {},
   "outputs": [],
   "source": []
  }
 ],
 "metadata": {
  "kernelspec": {
   "display_name": "Python 3 (ipykernel)",
   "language": "python",
   "name": "python3"
  },
  "language_info": {
   "codemirror_mode": {
    "name": "ipython",
    "version": 3
   },
   "file_extension": ".py",
   "mimetype": "text/x-python",
   "name": "python",
   "nbconvert_exporter": "python",
   "pygments_lexer": "ipython3",
   "version": "3.11.7"
  }
 },
 "nbformat": 4,
 "nbformat_minor": 5
}
